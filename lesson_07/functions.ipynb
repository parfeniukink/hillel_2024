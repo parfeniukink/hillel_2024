{
 "cells": [
  {
   "cell_type": "code",
   "execution_count": 4,
   "metadata": {},
   "outputs": [
    {
     "data": {
      "text/plain": [
       "True"
      ]
     },
     "execution_count": 4,
     "metadata": {},
     "output_type": "execute_result"
    }
   ],
   "source": [
    "# all() / any()\n",
    "\n",
    "\n",
    "collection = [True, True, True, \"John\", 12, [], 12.2]\n",
    "# all(collection)\n",
    "any(collection)\n"
   ]
  },
  {
   "cell_type": "code",
   "execution_count": 9,
   "metadata": {},
   "outputs": [
    {
     "name": "stdout",
     "output_type": "stream",
     "text": [
      "<__main__.Player object at 0x1083dc450> John\n",
      "<__main__.Player object at 0x1082fb890> John\n",
      "<generator object <genexpr> at 0x1083db510>\n"
     ]
    }
   ],
   "source": [
    "class Player:\n",
    "    def __init__(self, name):\n",
    "        self.name = name\n",
    "\n",
    "\n",
    "team: list[str] = [\n",
    "    Player(name=\"John\"),\n",
    "    Player(name=\"Marry\"),\n",
    "    Player(name=\"John\"),\n",
    "    Player(name=\"Marry\"),\n",
    "]\n",
    "\n",
    "# team_without_duplicates = []\n",
    "\n",
    "# for player in team:\n",
    "#     if player not in team_without_duplicates:\n",
    "#         team_without_duplicates.append(player)\n",
    "\n",
    "# list comprehensions\n",
    "# only_johns = [\n",
    "#     player for player in team\n",
    "#     if \"John\" in player.name\n",
    "# ]\n",
    "\n",
    "# dict = set() * set()\n",
    "\n",
    "# team_as_dict = {\n",
    "#     player.name: player for player in team\n",
    "# }\n",
    "\n",
    "# generator comprehensions\n",
    "only_johns = (\n",
    "    player for player in team\n",
    "    if \"John\" in player.name\n",
    ")\n",
    "\n",
    "for john in only_johns:\n",
    "    print(john, john.name)\n",
    "\n",
    "print(only_johns)"
   ]
  },
  {
   "cell_type": "code",
   "execution_count": 16,
   "metadata": {},
   "outputs": [
    {
     "name": "stdout",
     "output_type": "stream",
     "text": [
      "True\n",
      "True\n"
     ]
    }
   ],
   "source": [
    "# type / isinstance\n",
    "\n",
    "class Member:\n",
    "    def __init__(self, name) -> None:\n",
    "        self.name = name\n",
    "\n",
    "class Player(Member):\n",
    "    pass\n",
    "\n",
    "john = Member(name=\"John\")\n",
    "marry = Player(name=\"John\")\n",
    "\n",
    "\n",
    "# print(type(12))\n",
    "print(type(john) == Member)\n",
    "# print(type(marry) == Player)\n",
    "print(isinstance(marry, Member))"
   ]
  },
  {
   "cell_type": "code",
   "execution_count": 22,
   "metadata": {},
   "outputs": [
    {
     "name": "stdout",
     "output_type": "stream",
     "text": [
      "[1, 2, 12, 14, 18, 31]\n"
     ]
    }
   ],
   "source": [
    "# len()\n",
    "# sum()\n",
    "# sorted() / .sort()\n",
    "\n",
    "collection = [12, 31, 2, 18, 14, 1]\n",
    "\n",
    "# result = print(sorted(collection))\n",
    "# print(collection)\n",
    "\n",
    "collection.sort()\n",
    "print(collection)\n",
    "\n",
    "\n",
    "# class list:\n",
    "#     def __init__(self, collection):\n",
    "#         self.collection = collection\n",
    "\n",
    "#     def sort(self):\n",
    "#         self.collection = sorted(self.collection)"
   ]
  },
  {
   "cell_type": "code",
   "execution_count": 25,
   "metadata": {},
   "outputs": [
    {
     "name": "stdout",
     "output_type": "stream",
     "text": [
      "<__main__.Article object at 0x108923890>\n",
      "<__main__.Article object at 0x1082c7b90>\n",
      "<__main__.Article object at 0x1082c7b90>\n"
     ]
    }
   ],
   "source": [
    "# del()\n",
    "# zip ???\n",
    "\n",
    "class Article:\n",
    "    def __init__(self, id_, title) -> None:\n",
    "        self.id_ = id_\n",
    "        self.title = title\n",
    "\n",
    "def get_posts_from_database(user_id: int) -> tuple[tuple]:\n",
    "    return (\n",
    "        (1, 2, 3),\n",
    "        (\"How to learn Python\", \"Another article\", \"How to setup VSCode\")\n",
    "    )\n",
    "\n",
    "\n",
    "results: tuple[tuple, tuple] = get_posts_from_database(user_id=12)\n",
    "\n",
    "for id_, title in zip(results[0], results[1]):\n",
    "    print(Article(id_=id_, title=title))\n"
   ]
  },
  {
   "cell_type": "code",
   "execution_count": null,
   "metadata": {},
   "outputs": [],
   "source": []
  }
 ],
 "metadata": {
  "kernelspec": {
   "display_name": "machine_learning_course",
   "language": "python",
   "name": "machine_learning_course"
  },
  "language_info": {
   "codemirror_mode": {
    "name": "ipython",
    "version": 3
   },
   "file_extension": ".py",
   "mimetype": "text/x-python",
   "name": "python",
   "nbconvert_exporter": "python",
   "pygments_lexer": "ipython3",
   "version": "3.11.6"
  }
 },
 "nbformat": 4,
 "nbformat_minor": 2
}
